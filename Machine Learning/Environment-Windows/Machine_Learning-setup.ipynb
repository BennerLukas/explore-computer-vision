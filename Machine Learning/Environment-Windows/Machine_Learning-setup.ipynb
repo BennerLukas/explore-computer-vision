{
 "cells": [
  {
   "cell_type": "markdown",
   "metadata": {},
   "source": [
    "# Machine Learning - Environment Setup (Windows)\n",
    "\n",
    "In this tutorial, we will quickly setup the environment needed to play with Data Science and Machine Learning. We will be in need of some standard packages that are compatible with the **Python** programming language. <br> \n",
    "\n",
    "*Please follow step by step to properly install all these packages*\n",
    "\n",
    "* Python 2.7 (https://www.python.org/ftp/python/2.7.13/python-2.7.13.msi)\n",
    "* NumPy version 1.5 or above - For scientific computing with Python (http://www.numpy.org/)\n",
    "* SciPy version 0.10 or above - For high-level Science and Engineering modules (http://www.scipy.org/)\n",
    "* matplotlib version 1.3 or above - For data visualization (http://matplotlib.org/)\n",
    "* scikit-learn version 0.14 or above - For machine learning and statistical analysis (http://scikit-learn.org)\n",
    "* seaborn 0.7 or above - For data visualization (http://seaborn.pydata.org/)\n",
    "\n",
    "#### Method 1\n",
    "The easiest way to install all the above packages is to use **Anaconda** package manager. <br>\n",
    "Go to this website (https://www.continuum.io/why-anaconda) and install the anaconda package manager in your system. <br>\n",
    "Or you can also download miniconda (http://conda.pydata.org/miniconda.html) and type in the below command by opening up your command prompt.\n",
    "\n",
    "    $ conda install numpy scipy matplotlib scikit-learn seaborn\n",
    "\n",
    "#### Method 2\n",
    "Another way is to use **pip** which comes with your Python installation. <br>\n",
    "Use the below commands to install all the packages.\n",
    "\n",
    "    $ pip install numpy scipy matplotlib scikit-learn seaborn\n",
    "    \n",
    "#### Method 3\n",
    "Sometimes both these methods could fail (in cases like Windows 10). So, instead of using a package manager like pip or conda, you can visit this website (http://www.lfd.uci.edu/~gohlke/pythonlibs) to download the **.whl** file of the respective packages, and use **pip** to install it manually.<br>\n",
    "\n",
    "For example, to install NumPy, you can download it here (http://www.lfd.uci.edu/~gohlke/pythonlibs/#numpy) and run the command\n",
    "\n",
    "    $ pip install \"folder_path_to_where_you_have_downloaded/filename.whl\"\n",
    "\n",
    "Similarly, search for all the libraries and install it to get started with Machine Learning and Data Science.\n",
    "\n",
    "After successfully installing all the packages, run the below code. If you can see all the versions of the packages installed, then you are good to go! "
   ]
  },
  {
   "cell_type": "code",
   "execution_count": 2,
   "metadata": {
    "collapsed": false
   },
   "outputs": [
    {
     "name": "stdout",
     "output_type": "stream",
     "text": [
      "numpy: 1.11.2\n",
      "scipy: 0.18.1\n",
      "matplotlib: 1.5.3\n",
      "scikit-learn: 0.18\n",
      "seaborn: 0.7.1\n"
     ]
    }
   ],
   "source": [
    "import numpy\n",
    "print \"numpy: {}\".format(numpy.__version__)\n",
    "\n",
    "import scipy\n",
    "print \"scipy: {}\".format(scipy.__version__)\n",
    "\n",
    "import matplotlib\n",
    "print \"matplotlib: {}\".format(matplotlib.__version__)\n",
    "\n",
    "import sklearn\n",
    "print \"scikit-learn: {}\".format(sklearn.__version__)\n",
    "\n",
    "import seaborn\n",
    "print \"seaborn: {}\".format(seaborn.__version__)"
   ]
  }
 ],
 "metadata": {
  "kernelspec": {
   "display_name": "Python 2",
   "language": "python",
   "name": "python2"
  },
  "language_info": {
   "codemirror_mode": {
    "name": "ipython",
    "version": 2
   },
   "file_extension": ".py",
   "mimetype": "text/x-python",
   "name": "python",
   "nbconvert_exporter": "python",
   "pygments_lexer": "ipython2",
   "version": "2.7.12"
  }
 },
 "nbformat": 4,
 "nbformat_minor": 1
}
